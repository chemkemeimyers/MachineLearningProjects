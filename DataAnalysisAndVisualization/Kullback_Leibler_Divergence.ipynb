{
 "cells": [
  {
   "cell_type": "code",
   "execution_count": 1,
   "id": "d024559c",
   "metadata": {},
   "outputs": [],
   "source": [
    "from scipy.special import rel_entr"
   ]
  },
  {
   "cell_type": "code",
   "execution_count": 3,
   "id": "b42a9c5f",
   "metadata": {},
   "outputs": [
    {
     "name": "stdout",
     "output_type": "stream",
     "text": [
      "KL(P||Q): 1.324\n"
     ]
    }
   ],
   "source": [
    "#Define distributions\n",
    "p = [0.2, 0.4, 0.5]\n",
    "q = [0.6, 0.15, 0.05]\n",
    "\n",
    "#Calculate KL (P||Q)\n",
    "KL_PQ = rel_entr(p,q)\n",
    "print('KL(P||Q): %.3f' % sum(KL_PQ))"
   ]
  },
  {
   "cell_type": "code",
   "execution_count": 4,
   "id": "8ded5872",
   "metadata": {},
   "outputs": [
    {
     "name": "stdout",
     "output_type": "stream",
     "text": [
      "KL(Q||P): 0.397\n"
     ]
    }
   ],
   "source": [
    "#Calculate KL (Q||P)\n",
    "KL_QP = rel_entr(q,p)\n",
    "print('KL(Q||P): %.3f' % sum(KL_QP))"
   ]
  },
  {
   "cell_type": "code",
   "execution_count": null,
   "id": "1d67f157",
   "metadata": {},
   "outputs": [],
   "source": []
  }
 ],
 "metadata": {
  "kernelspec": {
   "display_name": "Python 3 (ipykernel)",
   "language": "python",
   "name": "python3"
  },
  "language_info": {
   "codemirror_mode": {
    "name": "ipython",
    "version": 3
   },
   "file_extension": ".py",
   "mimetype": "text/x-python",
   "name": "python",
   "nbconvert_exporter": "python",
   "pygments_lexer": "ipython3",
   "version": "3.9.13"
  }
 },
 "nbformat": 4,
 "nbformat_minor": 5
}
