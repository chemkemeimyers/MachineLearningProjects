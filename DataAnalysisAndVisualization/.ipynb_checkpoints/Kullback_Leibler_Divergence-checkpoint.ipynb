{
 "cells": [
  {
   "cell_type": "code",
   "execution_count": 1,
   "id": "4219c10f",
   "metadata": {},
   "outputs": [],
   "source": [
    "from scipy.special import rel_entr"
   ]
  },
  {
   "cell_type": "code",
   "execution_count": null,
   "id": "a4629012",
   "metadata": {},
   "outputs": [],
   "source": [
    "#Define distributions\n",
    "p = [0.2, 0.4, 0.5]\n",
    "q = [0.6, 0.15, 0.05]\n",
    "\n",
    "#Calculate KL (P||Q)\n",
    "KL_PQ = rel_entr(p,q)\n",
    "print('KL(P||)')"
   ]
  }
 ],
 "metadata": {
  "kernelspec": {
   "display_name": "Python 3 (ipykernel)",
   "language": "python",
   "name": "python3"
  },
  "language_info": {
   "codemirror_mode": {
    "name": "ipython",
    "version": 3
   },
   "file_extension": ".py",
   "mimetype": "text/x-python",
   "name": "python",
   "nbconvert_exporter": "python",
   "pygments_lexer": "ipython3",
   "version": "3.9.13"
  }
 },
 "nbformat": 4,
 "nbformat_minor": 5
}
